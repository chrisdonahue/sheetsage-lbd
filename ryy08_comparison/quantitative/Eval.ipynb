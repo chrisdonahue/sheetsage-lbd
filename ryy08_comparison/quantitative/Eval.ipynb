{
  "nbformat": 4,
  "nbformat_minor": 0,
  "metadata": {
    "colab": {
      "name": "RYY08QuantEval.ipynb",
      "provenance": [],
      "collapsed_sections": []
    },
    "kernelspec": {
      "name": "python3",
      "display_name": "Python 3"
    },
    "language_info": {
      "name": "python"
    }
  },
  "cells": [
    {
      "cell_type": "code",
      "metadata": {
        "id": "0N5HC5K0WTR4"
      },
      "source": [
        "!pip install pretty_midi==0.2.9\n",
        "!pip install --upgrade scipy==1.7.1"
      ],
      "execution_count": null,
      "outputs": []
    },
    {
      "cell_type": "code",
      "metadata": {
        "id": "EVH6zX4OLvOh"
      },
      "source": [
        "import json\n",
        "\n",
        "with open('ryy08/sync.json', 'r') as f:\n",
        "  RWC_TAG_TO_SYNC = json.load(f)\n",
        "\n",
        "with open('ryy08/ref.json', 'r') as f:\n",
        "  RWC_TAG_TO_REF_SIXTEENTHS = json.load(f)"
      ],
      "execution_count": null,
      "outputs": []
    },
    {
      "cell_type": "code",
      "metadata": {
        "id": "YcKnyvDzVi-G"
      },
      "source": [
        "import numpy as np\n",
        "import pretty_midi\n",
        "from scipy.interpolate import interp1d\n",
        "\n",
        "def _extrapolating_linear_interp1d(a, b):\n",
        "    return interp1d(a, b, kind=\"linear\", fill_value=\"extrapolate\")\n",
        "\n",
        "\n",
        "def create_beat_to_time_fn(beats, times):\n",
        "    return _extrapolating_linear_interp1d(beats, times)\n",
        "\n",
        "\n",
        "def create_time_to_beat_fn(beats, times):\n",
        "    return _extrapolating_linear_interp1d(times, beats)\n",
        "\n",
        "\n",
        "def fix_sync(midi, sync_ms):\n",
        "    midi_sync = pretty_midi.PrettyMIDI()\n",
        "    midi_sync.instruments = [pretty_midi.Instrument(0)]\n",
        "    for i, n in enumerate(midi.instruments[0].notes):\n",
        "        note = pretty_midi.Note(\n",
        "            start=max(n.start + (sync_ms / 1000), 0),\n",
        "            end=n.end + (sync_ms / 1000),\n",
        "            velocity=n.velocity,\n",
        "            pitch=n.pitch,\n",
        "        )\n",
        "        midi_sync.instruments[0].notes.append(note)\n",
        "    return midi_sync\n",
        "\n",
        "\n",
        "def quantize_midi_to_sixteenths(midi, beats, times):\n",
        "    assert len(beats) == len(times)\n",
        "    num_beats = len(beats) - 1\n",
        "    assert isinstance(num_beats, int)\n",
        "    assert num_beats % 4 == 0\n",
        "    num_sixteenths = num_beats * 4\n",
        "    \n",
        "    # Quantize fn\n",
        "    time_to_beat_fn = create_time_to_beat_fn(beats, times)\n",
        "    def _quantize_sixteenth(t):\n",
        "        b = time_to_beat_fn(t)\n",
        "        b *= 4\n",
        "        return round(float(b))\n",
        "\n",
        "    # Quantize notes to sixteenths\n",
        "    notes = sorted(midi.instruments[0].notes, key=lambda n: n.start)\n",
        "    notes_quantized = []\n",
        "    for i, n in enumerate(notes):\n",
        "        # Quantize start\n",
        "        s = _quantize_sixteenth(n.start)\n",
        "        if s < 0:\n",
        "            continue\n",
        "        if s >= num_sixteenths:\n",
        "            continue\n",
        "\n",
        "        # Quantize end\n",
        "        e = _quantize_sixteenth(n.end)\n",
        "        e = max(_quantize_sixteenth(n.end), s + 1)\n",
        "        if i + 1 < len(notes):\n",
        "            e = min(_quantize_sixteenth(notes[i+1].start), e)\n",
        "        e = min(e, num_sixteenths)\n",
        "        assert e >= s\n",
        "        \n",
        "        # Compute duration\n",
        "        d = e - s\n",
        "        if d == 0:\n",
        "            continue\n",
        "\n",
        "        notes_quantized.append((s, d, n.pitch))\n",
        "\n",
        "    # Assert monophonic\n",
        "    last_s = float('-inf')\n",
        "    last_e = float('-inf')\n",
        "    for s, d, p in notes_quantized:\n",
        "        e = s + d\n",
        "        assert s > last_s\n",
        "        assert s >= last_e\n",
        "        assert d > 0\n",
        "        last_s = s\n",
        "        last_e = e\n",
        "    \n",
        "    return notes_quantized\n",
        "\n",
        "\n",
        "def onset_pitch_metrics(ref_sixteenths, est_midi, beats):\n",
        "    # NOTE: Gold is always quantized before comparison because the reference should be precise\n",
        "    \n",
        "    # Quantize estimated transcription\n",
        "    est_sixteenths = quantize_midi_to_sixteenths(est_midi, list(range(len(beats))), beats)\n",
        "    \n",
        "    ref_onset_to_pitch = {o:p for o, _, p in ref_sixteenths}\n",
        "    assert len(ref_onset_to_pitch) == len(ref_sixteenths)\n",
        "    est_onset_to_pitch = {o:p for o, _, p in est_sixteenths}\n",
        "    assert len(est_onset_to_pitch) == len(est_sixteenths)\n",
        "    \n",
        "    octaves = list(range(-10, 11))\n",
        "    octave_f1_scores = []\n",
        "    octave_pr_scores = []\n",
        "    for octave in octaves:\n",
        "        true_positives = 0\n",
        "        precision_denominator = len(est_onset_to_pitch)\n",
        "        recall_denominator = len(ref_onset_to_pitch)\n",
        "        for eo, ep in est_onset_to_pitch.items():\n",
        "            true_positives += int((ep + octave * 12) == ref_onset_to_pitch.get(eo))\n",
        "        p = true_positives / precision_denominator\n",
        "        r = true_positives / recall_denominator\n",
        "        try:\n",
        "            f = 2 * ((p * r) / (p + r))\n",
        "        except ZeroDivisionError:\n",
        "            f = 0\n",
        "        octave_f1_scores.append(f)\n",
        "        octave_pr_scores.append((p, r))\n",
        "\n",
        "    best_octave_idx = np.argmax(octave_f1_scores)\n",
        "    f1 = octave_f1_scores[best_octave_idx]\n",
        "    p, r = octave_pr_scores[best_octave_idx]\n",
        "    \n",
        "    return f1, p, r"
      ],
      "execution_count": null,
      "outputs": []
    },
    {
      "cell_type": "code",
      "metadata": {
        "colab": {
          "base_uri": "https://localhost:8080/"
        },
        "id": "ilc1HxQhVlfj",
        "outputId": "347705c1-4bc9-47bb-f600-88524fa67787"
      },
      "source": [
        "from collections import defaultdict\n",
        "import pretty_midi\n",
        "\n",
        "# NOTE: Compensates for latency introduced by Onsets and Frames\n",
        "RYY_OAF_SYNC_ERROR_MS = 31\n",
        "\n",
        "method_to_metrics = defaultdict(list)\n",
        "for rwc_tag, ref_sixteenths in RWC_TAG_TO_REF_SIXTEENTHS.items():\n",
        "  _, _, beats = RWC_TAG_TO_SYNC[rwc_tag]\n",
        "  for method in ['mel', 'spt', 'spta', 'ryy', 'ssh', 'ssj']:\n",
        "    est = pretty_midi.PrettyMIDI(f'ryy08/est_unquant_midi/{method[:3]}_{rwc_tag}.mid')\n",
        "    if method == 'ryy':\n",
        "      est = fix_sync(est, RYY_OAF_SYNC_ERROR_MS)\n",
        "    if method == 'spta' and rwc_tag in ['pop-79', 'genre-70', 'genre-36']:\n",
        "      continue\n",
        "    try:\n",
        "      metrics = onset_pitch_metrics(ref_sixteenths, est, beats)\n",
        "    except ZeroDivisionError:\n",
        "      metrics = (0, 0, 0)\n",
        "    method_to_metrics[method].append(metrics)\n",
        "\n",
        "for method, metrics in method_to_metrics.items():\n",
        "  f1 = [f1 for f1, _, _ in metrics]\n",
        "  best_idxs = np.argsort(f1)[-5:]\n",
        "  result = [method]\n",
        "  for idxs in [list(range(len(metrics))), best_idxs]:\n",
        "    f1 = np.mean([f1 for i, (f1, _, _) in enumerate(metrics) if i in idxs])\n",
        "    f1_std = np.std([f1 for i, (f1, _, _) in enumerate(metrics) if i in idxs])\n",
        "    p = np.mean([p for i, (_, p, _) in enumerate(metrics) if i in idxs])\n",
        "    r = np.mean([r for i, (_, _, r) in enumerate(metrics) if i in idxs])\n",
        "    f1_post = 2 * ((p * r) / (p + r))\n",
        "    result.extend([f1, f1_std, p, r, f1_post])\n",
        "  print(' '.join([str(r) for r in result[:2]]))"
      ],
      "execution_count": null,
      "outputs": [
        {
          "output_type": "stream",
          "name": "stdout",
          "text": [
            "mel 0.27673425734254886\n",
            "spt 0.3442279889997281\n",
            "spta 0.46484572880535613\n",
            "ryy 0.4760328819774705\n",
            "ssh 0.5866153659559636\n",
            "ssj 0.7428765428606062\n"
          ]
        }
      ]
    },
    {
      "cell_type": "code",
      "metadata": {
        "colab": {
          "base_uri": "https://localhost:8080/"
        },
        "id": "gOfEP9CJD8cf",
        "outputId": "0e9173b9-f2e7-4912-f756-76b2d42e3ba7"
      },
      "source": [
        "from scipy.stats import ttest_rel\n",
        "\n",
        "ssj_f1 = [f1 for f1, _, _ in method_to_metrics['ssj']]\n",
        "print('ssj')\n",
        "print(' '.join('{:.3f}'.format(s) for s in ssj_f1))\n",
        "for baseline in ['mel', 'spt', 'ryy', 'ssh']:\n",
        "  baseline_f1 = [f1 for f1, _, _ in method_to_metrics[baseline]]\n",
        "  print('-' * 80)\n",
        "  print(baseline)\n",
        "  print(' '.join('{:.3f}'.format(s) for s in baseline_f1))\n",
        "  print(ttest_rel(ssj_f1, baseline_f1, alternative='two-sided'))"
      ],
      "execution_count": null,
      "outputs": [
        {
          "output_type": "stream",
          "name": "stdout",
          "text": [
            "ssj\n",
            "0.605 0.706 0.717 0.800 0.347 0.865 0.843 0.896 0.911 0.738\n",
            "--------------------------------------------------------------------------------\n",
            "mel\n",
            "0.090 0.227 0.441 0.254 0.063 0.213 0.184 0.275 0.453 0.567\n",
            "Ttest_relResult(statistic=8.668806881950397, pvalue=1.1590566133321503e-05)\n",
            "--------------------------------------------------------------------------------\n",
            "spt\n",
            "0.213 0.260 0.074 0.400 0.000 0.580 0.364 0.688 0.750 0.114\n",
            "Ttest_relResult(statistic=7.92587158634492, pvalue=2.3842021008732897e-05)\n",
            "--------------------------------------------------------------------------------\n",
            "ryy\n",
            "0.430 0.216 0.618 0.333 0.547 0.543 0.392 0.484 0.600 0.597\n",
            "Ttest_relResult(statistic=3.9080002956266413, pvalue=0.003575613655997683)\n",
            "--------------------------------------------------------------------------------\n",
            "ssh\n",
            "0.394 0.628 0.667 0.605 0.387 0.686 0.584 0.824 0.592 0.500\n",
            "Ttest_relResult(statistic=4.427872008303544, pvalue=0.0016522385690252435)\n"
          ]
        }
      ]
    }
  ]
}