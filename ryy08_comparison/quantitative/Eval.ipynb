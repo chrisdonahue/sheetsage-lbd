{
  "nbformat": 4,
  "nbformat_minor": 0,
  "metadata": {
    "colab": {
      "name": "RYY08QuantEval.ipynb",
      "provenance": [],
      "collapsed_sections": []
    },
    "kernelspec": {
      "name": "python3",
      "display_name": "Python 3"
    },
    "language_info": {
      "name": "python"
    }
  },
  "cells": [
    {
      "cell_type": "code",
      "metadata": {
        "id": "0N5HC5K0WTR4"
      },
      "source": [
        "!pip install pretty_midi==0.2.9"
      ],
      "execution_count": null,
      "outputs": []
    },
    {
      "cell_type": "code",
      "metadata": {
        "id": "EVH6zX4OLvOh"
      },
      "source": [
        "import json\n",
        "\n",
        "with open('ryy08/sync.json', 'r') as f:\n",
        "  RWC_TAG_TO_SYNC = json.load(f)\n",
        "\n",
        "with open('ryy08/ref.json', 'r') as f:\n",
        "  RWC_TAG_TO_REF_SIXTEENTHS = json.load(f)"
      ],
      "execution_count": 1,
      "outputs": []
    },
    {
      "cell_type": "code",
      "metadata": {
        "id": "YcKnyvDzVi-G"
      },
      "source": [
        "import numpy as np\n",
        "import pretty_midi\n",
        "from scipy.interpolate import interp1d\n",
        "\n",
        "def _extrapolating_linear_interp1d(a, b):\n",
        "    return interp1d(a, b, kind=\"linear\", fill_value=\"extrapolate\")\n",
        "\n",
        "\n",
        "def create_beat_to_time_fn(beats, times):\n",
        "    return _extrapolating_linear_interp1d(beats, times)\n",
        "\n",
        "\n",
        "def create_time_to_beat_fn(beats, times):\n",
        "    return _extrapolating_linear_interp1d(times, beats)\n",
        "\n",
        "\n",
        "def fix_sync(midi, sync_ms):\n",
        "    midi_sync = pretty_midi.PrettyMIDI()\n",
        "    midi_sync.instruments = [pretty_midi.Instrument(0)]\n",
        "    for i, n in enumerate(midi.instruments[0].notes):\n",
        "        note = pretty_midi.Note(\n",
        "            start=max(n.start + (sync_ms / 1000), 0),\n",
        "            end=n.end + (sync_ms / 1000),\n",
        "            velocity=n.velocity,\n",
        "            pitch=n.pitch,\n",
        "        )\n",
        "        midi_sync.instruments[0].notes.append(note)\n",
        "    return midi_sync\n",
        "\n",
        "\n",
        "def quantize_midi_to_sixteenths(midi, beats, times):\n",
        "    assert len(beats) == len(times)\n",
        "    num_beats = len(beats) - 1\n",
        "    assert isinstance(num_beats, int)\n",
        "    assert num_beats % 4 == 0\n",
        "    num_sixteenths = num_beats * 4\n",
        "    \n",
        "    # Quantize fn\n",
        "    time_to_beat_fn = create_time_to_beat_fn(beats, times)\n",
        "    def _quantize_sixteenth(t):\n",
        "        b = time_to_beat_fn(t)\n",
        "        b *= 4\n",
        "        return round(float(b))\n",
        "\n",
        "    # Quantize notes to sixteenths\n",
        "    notes = sorted(midi.instruments[0].notes, key=lambda n: n.start)\n",
        "    notes_quantized = []\n",
        "    for i, n in enumerate(notes):\n",
        "        # Quantize start\n",
        "        s = _quantize_sixteenth(n.start)\n",
        "        if s < 0:\n",
        "            continue\n",
        "        if s >= num_sixteenths:\n",
        "            continue\n",
        "\n",
        "        # Quantize end\n",
        "        e = _quantize_sixteenth(n.end)\n",
        "        e = max(_quantize_sixteenth(n.end), s + 1)\n",
        "        if i + 1 < len(notes):\n",
        "            e = min(_quantize_sixteenth(notes[i+1].start), e)\n",
        "        e = min(e, num_sixteenths)\n",
        "        assert e >= s\n",
        "        \n",
        "        # Compute duration\n",
        "        d = e - s\n",
        "        if d == 0:\n",
        "            continue\n",
        "\n",
        "        notes_quantized.append((s, d, n.pitch))\n",
        "\n",
        "    # Assert monophonic\n",
        "    last_s = float('-inf')\n",
        "    last_e = float('-inf')\n",
        "    for s, d, p in notes_quantized:\n",
        "        e = s + d\n",
        "        assert s > last_s\n",
        "        assert s >= last_e\n",
        "        assert d > 0\n",
        "        last_s = s\n",
        "        last_e = e\n",
        "    \n",
        "    return notes_quantized\n",
        "\n",
        "\n",
        "def onset_pitch_metrics(ref_sixteenths, est_midi, beats):\n",
        "    # NOTE: Gold is always quantized before comparison because the reference should be precise\n",
        "    \n",
        "    # Quantize estimated transcription\n",
        "    est_sixteenths = quantize_midi_to_sixteenths(est_midi, list(range(len(beats))), beats)\n",
        "    \n",
        "    ref_onset_to_pitch = {o:p for o, _, p in ref_sixteenths}\n",
        "    assert len(ref_onset_to_pitch) == len(ref_sixteenths)\n",
        "    est_onset_to_pitch = {o:p for o, _, p in est_sixteenths}\n",
        "    assert len(est_onset_to_pitch) == len(est_sixteenths)\n",
        "    \n",
        "    octaves = list(range(-10, 11))\n",
        "    octave_f1_scores = []\n",
        "    octave_pr_scores = []\n",
        "    for octave in octaves:\n",
        "        true_positives = 0\n",
        "        precision_denominator = len(est_onset_to_pitch)\n",
        "        recall_denominator = len(ref_onset_to_pitch)\n",
        "        for eo, ep in est_onset_to_pitch.items():\n",
        "            true_positives += int((ep + octave * 12) == ref_onset_to_pitch.get(eo))\n",
        "        p = true_positives / precision_denominator\n",
        "        r = true_positives / recall_denominator\n",
        "        try:\n",
        "            f = 2 * ((p * r) / (p + r))\n",
        "        except ZeroDivisionError:\n",
        "            f = 0\n",
        "        octave_f1_scores.append(f)\n",
        "        octave_pr_scores.append((p, r))\n",
        "\n",
        "    best_octave_idx = np.argmax(octave_f1_scores)\n",
        "    f1 = octave_f1_scores[best_octave_idx]\n",
        "    p, r = octave_pr_scores[best_octave_idx]\n",
        "    \n",
        "    return f1, p, r"
      ],
      "execution_count": 2,
      "outputs": []
    },
    {
      "cell_type": "code",
      "metadata": {
        "colab": {
          "base_uri": "https://localhost:8080/"
        },
        "id": "ilc1HxQhVlfj",
        "outputId": "7c93c432-4f25-44f6-b528-1040b65365fb"
      },
      "source": [
        "from collections import defaultdict\n",
        "import pretty_midi\n",
        "\n",
        "# NOTE: Compensates for latency introduced by Onsets and Frames\n",
        "RYY_OAF_SYNC_ERROR_MS = 31\n",
        "\n",
        "method_to_metrics = defaultdict(list)\n",
        "for rwc_tag, ref_sixteenths in RWC_TAG_TO_REF_SIXTEENTHS.items():\n",
        "  _, _, beats = RWC_TAG_TO_SYNC[rwc_tag]\n",
        "  for method in ['ryy', 'mel', 'ssh', 'ssj']:\n",
        "    est = pretty_midi.PrettyMIDI(f'ryy08/est_unquant_midi/{method}_{rwc_tag}.mid')\n",
        "    if method == 'ryy':\n",
        "      est = fix_sync(est, RYY_OAF_SYNC_ERROR_MS)\n",
        "    metrics = onset_pitch_metrics(ref_sixteenths, est, beats)\n",
        "    method_to_metrics[method].append(metrics)\n",
        "\n",
        "for method, metrics in method_to_metrics.items():\n",
        "    f1 = np.mean([f1 for f1, _, _ in metrics])\n",
        "    p = np.mean([p for _, p, _, in metrics])\n",
        "    r = np.mean([r for _, _, r in metrics])\n",
        "    print(method, f1, p, r)"
      ],
      "execution_count": 3,
      "outputs": [
        {
          "output_type": "stream",
          "name": "stdout",
          "text": [
            "ryy 0.4760328819774705 0.47900457777551503 0.49472290693071175\n",
            "mel 0.27673425734254886 0.28386365399857477 0.2894663409916158\n",
            "ssh 0.5866153659559636 0.6347876689011206 0.5697072579915735\n",
            "ssj 0.7428765428606062 0.74844514579763 0.7508046124376337\n"
          ]
        }
      ]
    }
  ]
}